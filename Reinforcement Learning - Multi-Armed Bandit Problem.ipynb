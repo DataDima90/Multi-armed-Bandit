{
 "cells": [
  {
   "cell_type": "markdown",
   "metadata": {},
   "source": [
    "## Reinforcement Learning - Multi-Armed Bandit Problem"
   ]
  },
  {
   "cell_type": "markdown",
   "metadata": {},
   "source": [
    "### What is the Multi-Armed Bandit Problem (MABP)?"
   ]
  },
  {
   "cell_type": "markdown",
   "metadata": {},
   "source": [
    "**Exploration vs Exploitation dilemma:**\n",
    "\n",
    "Let's say, you take your lunch at your favorite restaurant every day as you are confident about what you get from there is good. But you may be missing the chances of discovering even a better option. If you explore all the restaurants in your locaility one by one, the probability of tasting the worst food in your life would be pretty high. But then again, there is also a probability that you get an even better option! This dilemma is called exploration vs. exploitation dilemma.\n",
    "\n",
    "**Multi-Armed Bandit Problem:**\n",
    "\n",
    "This is a use case of reinforcement learning, where we are given a slot machine called multi-armed bandit with each arm having its own rigged probability distribution of success. Pulling any one of these arms gives you a stochastic reward of either 1, for success or 0, for a failure. Now the task is to find such an optimal strategy that will give you the hightest rewards in the long run without the prior knowledge of the probability distribution of success of the machines.\n",
    "\n",
    "The Upper Confidence Bound algorithm the kind of algorithm that helps us to perform exploitation and exploration together.\n",
    "\n",
    "**This problem can be related to more business examples such as displaying the optimal questions to the user.**"
   ]
  },
  {
   "cell_type": "markdown",
   "metadata": {},
   "source": [
    "<ol>\n",
    "    <li>Let's have *d* arms. For example, arms are ads that we display to users each time they connect to a web page.</li>\n",
    "    <li>Each time a user conncects to this web page, that makes a round.</li>\n",
    "    <li>At each round *n*, we choose one ad to display to the user.</li>\n",
    "    <li>At each round *n*, ad *i* gives reward $r_i(n) \\in \\{0, 1\\}: r_i(n) = 1$ if the user clicked on the ad *i*, 0 if the user didn't. </li>\n",
    "    <li>Our goal is to maximize the total reward we get over many rounds.</li>\n",
    "</ol>"
   ]
  },
  {
   "cell_type": "markdown",
   "metadata": {},
   "source": [
    "## Importing the libraries"
   ]
  },
  {
   "cell_type": "code",
   "execution_count": 22,
   "metadata": {},
   "outputs": [],
   "source": [
    "import numpy as np\n",
    "import matplotlib.pyplot as plt\n",
    "import pandas as pd\n",
    "import math\n",
    "import random"
   ]
  },
  {
   "cell_type": "markdown",
   "metadata": {},
   "source": [
    "## Importing the dataset"
   ]
  },
  {
   "cell_type": "markdown",
   "metadata": {},
   "source": [
    "In this notebook we are going to solve a use case of the multi-armed bandit problem. We take an example of an online advertising campaign dataset where we have 10 different versions of a similar ad. You can download the dataset from __[here](https://www.dropbox.com/s/ovnpvh8y50qain5/Ads_CTR_Optimisation.csv?dl=0)__."
   ]
  },
  {
   "cell_type": "code",
   "execution_count": 45,
   "metadata": {},
   "outputs": [
    {
     "name": "stdout",
     "output_type": "stream",
     "text": [
      "(10000, 10)\n"
     ]
    },
    {
     "data": {
      "text/html": [
       "<div>\n",
       "<style scoped>\n",
       "    .dataframe tbody tr th:only-of-type {\n",
       "        vertical-align: middle;\n",
       "    }\n",
       "\n",
       "    .dataframe tbody tr th {\n",
       "        vertical-align: top;\n",
       "    }\n",
       "\n",
       "    .dataframe thead th {\n",
       "        text-align: right;\n",
       "    }\n",
       "</style>\n",
       "<table border=\"1\" class=\"dataframe\">\n",
       "  <thead>\n",
       "    <tr style=\"text-align: right;\">\n",
       "      <th></th>\n",
       "      <th>Ad 1</th>\n",
       "      <th>Ad 2</th>\n",
       "      <th>Ad 3</th>\n",
       "      <th>Ad 4</th>\n",
       "      <th>Ad 5</th>\n",
       "      <th>Ad 6</th>\n",
       "      <th>Ad 7</th>\n",
       "      <th>Ad 8</th>\n",
       "      <th>Ad 9</th>\n",
       "      <th>Ad 10</th>\n",
       "    </tr>\n",
       "  </thead>\n",
       "  <tbody>\n",
       "    <tr>\n",
       "      <th>0</th>\n",
       "      <td>1</td>\n",
       "      <td>0</td>\n",
       "      <td>0</td>\n",
       "      <td>0</td>\n",
       "      <td>1</td>\n",
       "      <td>0</td>\n",
       "      <td>0</td>\n",
       "      <td>0</td>\n",
       "      <td>1</td>\n",
       "      <td>0</td>\n",
       "    </tr>\n",
       "    <tr>\n",
       "      <th>1</th>\n",
       "      <td>0</td>\n",
       "      <td>0</td>\n",
       "      <td>0</td>\n",
       "      <td>0</td>\n",
       "      <td>0</td>\n",
       "      <td>0</td>\n",
       "      <td>0</td>\n",
       "      <td>0</td>\n",
       "      <td>1</td>\n",
       "      <td>0</td>\n",
       "    </tr>\n",
       "    <tr>\n",
       "      <th>2</th>\n",
       "      <td>0</td>\n",
       "      <td>0</td>\n",
       "      <td>0</td>\n",
       "      <td>0</td>\n",
       "      <td>0</td>\n",
       "      <td>0</td>\n",
       "      <td>0</td>\n",
       "      <td>0</td>\n",
       "      <td>0</td>\n",
       "      <td>0</td>\n",
       "    </tr>\n",
       "    <tr>\n",
       "      <th>3</th>\n",
       "      <td>0</td>\n",
       "      <td>1</td>\n",
       "      <td>0</td>\n",
       "      <td>0</td>\n",
       "      <td>0</td>\n",
       "      <td>0</td>\n",
       "      <td>0</td>\n",
       "      <td>1</td>\n",
       "      <td>0</td>\n",
       "      <td>0</td>\n",
       "    </tr>\n",
       "    <tr>\n",
       "      <th>4</th>\n",
       "      <td>0</td>\n",
       "      <td>0</td>\n",
       "      <td>0</td>\n",
       "      <td>0</td>\n",
       "      <td>0</td>\n",
       "      <td>0</td>\n",
       "      <td>0</td>\n",
       "      <td>0</td>\n",
       "      <td>0</td>\n",
       "      <td>0</td>\n",
       "    </tr>\n",
       "  </tbody>\n",
       "</table>\n",
       "</div>"
      ],
      "text/plain": [
       "   Ad 1  Ad 2  Ad 3  Ad 4  Ad 5  Ad 6  Ad 7  Ad 8  Ad 9  Ad 10\n",
       "0     1     0     0     0     1     0     0     0     1      0\n",
       "1     0     0     0     0     0     0     0     0     1      0\n",
       "2     0     0     0     0     0     0     0     0     0      0\n",
       "3     0     1     0     0     0     0     0     1     0      0\n",
       "4     0     0     0     0     0     0     0     0     0      0"
      ]
     },
     "execution_count": 45,
     "metadata": {},
     "output_type": "execute_result"
    }
   ],
   "source": [
    "# Importing the dataset\n",
    "dataset = pd.read_csv('Ads_Optimisation.csv')\n",
    "print(dataset.shape)\n",
    "dataset.head(5)"
   ]
  },
  {
   "cell_type": "markdown",
   "metadata": {},
   "source": [
    "**Description of the dataset:**\n",
    "\n",
    "We suppose it is an advertising company which is running 10 different ads targeted towards a similar set of population on a webpage. We have results which ads were clicked by a user. Each column index represents a different ad. We have a 1 if the ad was clicked by a user, and 0 if it was not. This is a simulated dataset and it has Ad #5 as the one which gives the maximum reward."
   ]
  },
  {
   "cell_type": "markdown",
   "metadata": {},
   "source": [
    "## Implementing Random Selection"
   ]
  },
  {
   "cell_type": "markdown",
   "metadata": {},
   "source": [
    "First, we'll try a random selection technique, where we randomly select any ad and show it to the user. If user clicks the ad, we get paid and if not, there is no profit."
   ]
  },
  {
   "cell_type": "code",
   "execution_count": 30,
   "metadata": {},
   "outputs": [
    {
     "name": "stdout",
     "output_type": "stream",
     "text": [
      "Total Reward for the random selection: 1260\n"
     ]
    }
   ],
   "source": [
    "# Implementing Random Selection\n",
    "N = dataset.shape[0] # 10000\n",
    "d = dataset.shape[1] # 10\n",
    "\n",
    "ads_selected = []\n",
    "total_reward = 0\n",
    "for n in range(0, N):\n",
    "    ad = random.randrange(d)\n",
    "    ads_selected.append(ad)\n",
    "    reward = dataset.values[n, ad]\n",
    "    total_reward = total_reward + reward#\n",
    "\n",
    "print('Total Reward for the random selection: {}'.format(total_reward))"
   ]
  },
  {
   "cell_type": "markdown",
   "metadata": {},
   "source": [
    "As we expected, the algorithm is not learning anything, it will not smartly select any ad which is giving the maximum return. And hence if we look at the last 1000 trials, it is not able to find the optimal ad."
   ]
  },
  {
   "cell_type": "code",
   "execution_count": 18,
   "metadata": {
    "scrolled": true
   },
   "outputs": [
    {
     "data": {
      "text/plain": [
       "9    0.112\n",
       "6    0.111\n",
       "4    0.106\n",
       "3    0.106\n",
       "1    0.105\n",
       "8    0.099\n",
       "0    0.096\n",
       "2    0.093\n",
       "5    0.088\n",
       "7    0.084\n",
       "dtype: float64"
      ]
     },
     "execution_count": 18,
     "metadata": {},
     "output_type": "execute_result"
    }
   ],
   "source": [
    "pd.Series(ads_selected).tail(1000).value_counts(normalize=True)"
   ]
  },
  {
   "cell_type": "markdown",
   "metadata": {},
   "source": [
    "### Define plot function for this notebook"
   ]
  },
  {
   "cell_type": "code",
   "execution_count": 38,
   "metadata": {},
   "outputs": [],
   "source": [
    "def plot_ads_selected(ads_selected):\n",
    "    plt.hist(ads_selected)\n",
    "    plt.title('Histogram of ads selections')\n",
    "    plt.xlabel('Ads')\n",
    "    plt.ylabel('Number of times each ad was selected')\n",
    "    plt.show()"
   ]
  },
  {
   "cell_type": "markdown",
   "metadata": {},
   "source": [
    "### Visualizing the result"
   ]
  },
  {
   "cell_type": "markdown",
   "metadata": {},
   "source": [
    "Now let's see what we get from our random selection technique:"
   ]
  },
  {
   "cell_type": "code",
   "execution_count": 39,
   "metadata": {},
   "outputs": [
    {
     "data": {
      "image/png": "[encoded data removed]",
      "text/plain": [
       "<Figure size 432x288 with 1 Axes>"
      ]
     },
     "metadata": {},
     "output_type": "display_data"
    }
   ],
   "source": [
    "plot_ads_selected(ads_selected=ads_selected)"
   ]
  },
  {
   "cell_type": "markdown",
   "metadata": {},
   "source": [
    "Now, let's try the Upper Confidence Bound algorithm to do the same:"
   ]
  },
  {
   "cell_type": "markdown",
   "metadata": {},
   "source": [
    "### How the UCB Algorithm Works?"
   ]
  },
  {
   "cell_type": "markdown",
   "metadata": {},
   "source": [
    "At the start of the campaign, we don't know what is the best arm or question. So we cannot distinguish or discriminate any arm or questions or something else. So the UCB algorithm assumes they all have the same observed average value. Then the algorithm creates confidence bound for each arm or questions. So it randomly picks any of the arms or ads. Then two things can happen: 1. the user clicks the ad and the arms gives reard or 2. does not. Let's say the ad did not have a click or the arm was a failure. So the observed average of the ad or arm will go down. And the confidence bound will also go down. If it had a click, the obsered average would go up and the confidence bound also goes up. By exploiting the best one we are decreasing the confidence bound. As we are adding more and more samples, the probability of other arms or ad doing will is also going up."
   ]
  },
  {
   "cell_type": "markdown",
   "metadata": {},
   "source": [
    "### Steps of the UCB algorithm:"
   ]
  },
  {
   "cell_type": "markdown",
   "metadata": {},
   "source": [
    "**Step 1.** At each round n, we consider two numbers for each ad i:\n",
    "<ul>\n",
    "<li>$N_i(n)$ - the number of times the arm i was selected up to round n,</li>\n",
    "<li>$R_i(n)$ - the sum of rewards of the arm i up to round n.</li>\n",
    "</ul>\n",
    "        \n",
    "**Step 2.** From these two numbers we compute:\n",
    "\n",
    "<ul>\n",
    "<li>The average reward of arm i up to round n:\n",
    "    \n",
    "$$r_i(n) = \\frac{R_i(n)}{N_i(n)}$$</li>\n",
    "         \n",
    "<li>the confidence interval $[r_i(n) - \\Delta_i(n), r_i(n) + \\Delta_i(n)]$ at round n with:</li>\n",
    "    \n",
    "$$\\Delta_i(n) = \\sqrt{\\frac{3\\log(n)}{2 N_i(n)}}$$\n",
    "</ul>\n",
    "\n",
    "**Step 3.** We select the arm i that has the maxium UCB r_i(n) + delta_i(n)"
   ]
  },
  {
   "cell_type": "markdown",
   "metadata": {},
   "source": [
    "## Implementing UCB"
   ]
  },
  {
   "cell_type": "markdown",
   "metadata": {},
   "source": [
    "Now, we'll implement the whole algorithm in Python based on the previous explanation."
   ]
  },
  {
   "cell_type": "code",
   "execution_count": 27,
   "metadata": {},
   "outputs": [
    {
     "name": "stdout",
     "output_type": "stream",
     "text": [
      "Total Reward for the UCB: 2178\n"
     ]
    }
   ],
   "source": [
    "# Implemeting UCB\n",
    "N = dataset.shape[0] # 10000\n",
    "d = dataset.shape[1] # 10\n",
    "\n",
    "# is used to append the different types of ads selected in each round \n",
    "ads_selected = []\n",
    "\n",
    "# is used to count the number of time an ad was selected \n",
    "numbers_of_selections = [0] * d\n",
    "\n",
    " # is used to calculate the cumulative sum of rewards at each round\n",
    "sums_of_rewards = [0] * d\n",
    "\n",
    "# Initizialition\n",
    "total_reward = 0\n",
    "\n",
    "for n in range(0, N):\n",
    "    ad = 0\n",
    "    max_upper_bound = 0\n",
    "    for i in range(0, d):\n",
    "        if (numbers_of_selections[i] > 0):\n",
    "            average_reward = sums_of_rewards[i] / numbers_of_selections[i]\n",
    "            delta_i = math.sqrt(3/2 * math.log(n+1) / numbers_of_selections[i])\n",
    "            upper_bound = average_reward + delta_i\n",
    "        else:\n",
    "            upper_bound = 1e400 #inf\n",
    "        if upper_bound > max_upper_bound:\n",
    "            max_upper_bound = upper_bound\n",
    "            ad = i\n",
    "    ads_selected.append(ad)\n",
    "    # print('ads_selected')\n",
    "    # print(ads_selected)\n",
    "    numbers_of_selections[ad] += 1\n",
    "    # print('numbers_of_selections')\n",
    "    # print(numbers_of_selections)\n",
    "    reward = dataset.values[n, ad]\n",
    "    # print('reward')\n",
    "    # print(reward)\n",
    "    sums_of_rewards[ad] += reward\n",
    "    # print('sums_of_reward')\n",
    "    # print(sums_of_rewards)\n",
    "    total_reward += reward\n",
    "    # print('total_reward')\n",
    "    # print(total_reward)\n",
    "\n",
    "print('Total Reward for the UCB: {}'.format(total_reward))"
   ]
  },
  {
   "cell_type": "markdown",
   "metadata": {},
   "source": [
    "### Code Explanation"
   ]
  },
  {
   "cell_type": "markdown",
   "metadata": {},
   "source": [
    "As we don't know any prior knowledge about the selection of each ad, we will take the first 10 rounds as trial rounds. So, we set the if condition: *if (numbers_of_selections[i] > 0)* so that the ads are selected at least once before entering into the main algorithm.\n",
    "\n",
    "Then we implement the second step of the algorithm, computing the average reward of each ad i up to round n and the upper confidence bound for each ad.\n",
    "\n",
    "**Note:** Here we applied a trick in else condition by taking the variable *upper_bound* to a huge number. This is because we want the first 10 rounds as trial rounds where 10 ads are selected at least once. This trick will help us to do so.\n",
    "\n",
    "After 10 trial rounds, the algorithm will work as the steps explained earlier."
   ]
  },
  {
   "cell_type": "markdown",
   "metadata": {},
   "source": [
    "### Result"
   ]
  },
  {
   "cell_type": "markdown",
   "metadata": {},
   "source": [
    "The total_reward for UCB is much bettern than random selection and indeed a smart exploration technique that can significantly improve our strategy to solve a MABP."
   ]
  },
  {
   "cell_type": "code",
   "execution_count": 24,
   "metadata": {},
   "outputs": [
    {
     "data": {
      "text/plain": [
       "4    0.346667\n",
       "7    0.128000\n",
       "0    0.095333\n",
       "6    0.083333\n",
       "1    0.068000\n",
       "8    0.065333\n",
       "3    0.065333\n",
       "9    0.057333\n",
       "5    0.045333\n",
       "2    0.045333\n",
       "dtype: float64"
      ]
     },
     "execution_count": 24,
     "metadata": {},
     "output_type": "execute_result"
    }
   ],
   "source": [
    "pd.Series(ads_selected).head(1500).value_counts(normalize=True)"
   ]
  },
  {
   "cell_type": "markdown",
   "metadata": {},
   "source": [
    "After just 1500 trials, UCB is already favoring Ad # 5 (index 4) which happen to be optimal ad, and gets the maximum return for the given problem."
   ]
  },
  {
   "cell_type": "markdown",
   "metadata": {},
   "source": [
    "### Visualizing the Result"
   ]
  },
  {
   "cell_type": "markdown",
   "metadata": {},
   "source": [
    "Now we'll see what we get from our UCB model:"
   ]
  },
  {
   "cell_type": "code",
   "execution_count": 25,
   "metadata": {},
   "outputs": [
    {
     "data": {
      "image/png": "[encoded data removed]",
      "text/plain": [
       "<Figure size 432x288 with 1 Axes>"
      ]
     },
     "metadata": {},
     "output_type": "display_data"
    }
   ],
   "source": [
    "plot_ads_selected(ads_selected=ads_selected)"
   ]
  },
  {
   "cell_type": "markdown",
   "metadata": {},
   "source": [
    "**Conclusion** \n",
    "\n",
    "From the above visualization, we can see that the fourth ad got the highest click. So our model advice us to place the fourth version of the ad to the user for getting the highest number of clicks."
   ]
  },
  {
   "cell_type": "markdown",
   "metadata": {},
   "source": [
    "**End Notes**\n",
    "\n",
    "These algorithms are so simple and powerful that they are being used increasingly by even small tech companies, as the comptation resources required for them are often low. Going forward, there are other techniques based on probabilistic models such as Thompson Sampling."
   ]
  },
  {
   "cell_type": "markdown",
   "metadata": {},
   "source": [
    "## Thompson Sampling Algorithm"
   ]
  },
  {
   "cell_type": "markdown",
   "metadata": {},
   "source": [
    "Thompson Sampling is a probabilistic algorithm based on Bayesian ideas. It is called sampling because it picks random samples from a probability distribution of each arm. This could be defined as a Beta Bernoulli sampler. Though Thompson sampling can be generalized to sample from any arbitrary distributions. But the Beta Bernoulli version of Thompson sampling is more intuitive and is actually the best options for many problems in practice. In this tutorial, we will use the Beta Benouli sampler."
   ]
  },
  {
   "cell_type": "markdown",
   "metadata": {},
   "source": [
    "### Algorithm Comparison: Upper Confidence bound vs. Thompson Sampling:"
   ]
  },
  {
   "cell_type": "markdown",
   "metadata": {},
   "source": [
    "There is a significant difference between UCB and Thompson Sampling:\n",
    "\n",
    "1. UCB is a deterministic algorithm whereas Thompson sampling is a probabalistic algorithm\n",
    "2. In UCB you must incorporate the value at every round, you cannnot proceed to the next round without adjusting the value. In Thompson, you can accommodate delayed feedback. This means you can update the dataset for your MABP in a batch manner, that will save additional computing resource or cost of updateing the dataset each time. (Main Advantage of Thompson sampling algorithm)7\n",
    "\n",
    "**Conclusion:** It comes out that the Thompson sampling has better emprical performance compared to the UCB algorithm."
   ]
  },
  {
   "cell_type": "markdown",
   "metadata": {},
   "source": [
    "### How the Thompson Sampling algorithm works?"
   ]
  },
  {
   "cell_type": "markdown",
   "metadata": {},
   "source": [
    "Let's say we have three multi-armed bandits with the following distirbutions. Our expected value can be anywhere in the distribution. Now, this algorithm will choose samples from the above distribution using Bayesian Inference rules. First, it will run some trial rounds before doing the actual computation. After that, it will pick the samples from each of the distributions that have the highest value of the distribution. This will make an imaginary set of bandits. That means that this algorithm actually makes an auxiliary mechanism to solve the problem, that is, it will not create the machines at every round rather it will create the possible ways these machines could be recreated. With each trial, each takes a sample which has the highest distribution. And with each trial, the distribution will be changed. The distribution will get narrower as we have some information. After a huge number of rounds, we will get the narrowest distribution which we will take as the final outcome."
   ]
  },
  {
   "cell_type": "markdown",
   "metadata": {},
   "source": [
    "### Steps of the Thompson sampling algorithm:"
   ]
  },
  {
   "cell_type": "markdown",
   "metadata": {},
   "source": [
    "**Step 1.**  At each reound *n*, we consider two numbers for each ad *i*:\n",
    "\n",
    "<ul>\n",
    "<li>$N_{i}^{1}(n)$ - the number of times the ad *i* got reward 1 up to round n,</li>\n",
    "<li>$N_{i}^{0}(n)$ - the number of items the ad *i* got reward 0 up to round n.</li>\n",
    "</ul>\n",
    "\n",
    "**Step 2.** For each ad *i*, we take a random draw from the distribution below:\n",
    "$$\\theta_i(n) = \\beta(N_{i}^{1}(n) + 1, N_{i}^{0}(n) + 1) $$\n",
    "\n",
    "**Step 3.** We select the ad that has the highest $\\theta_i(n)$."
   ]
  },
  {
   "cell_type": "markdown",
   "metadata": {},
   "source": [
    "## Implementing Thompson Sampling"
   ]
  },
  {
   "cell_type": "markdown",
   "metadata": {},
   "source": [
    "Now, let's implement the Thompson Sampling code"
   ]
  },
  {
   "cell_type": "code",
   "execution_count": 36,
   "metadata": {},
   "outputs": [],
   "source": [
    "# Implementing Thompson Sampling\n",
    "N = dataset.shape[0] # 10000\n",
    "d = dataset.shape[1] # 10\n",
    "\n",
    "ads_selected = []\n",
    "\n",
    "numbers_of_rewards_1 = [0] * d\n",
    "numbers_of_rewards_0 = [0] * d\n",
    "\n",
    "total_reward = 0\n",
    "\n",
    "for n in range(0, N):\n",
    "    ad = 0\n",
    "    max_random = 0\n",
    "    for i in range(0, d):\n",
    "        random_beta = random.betavariate(numbers_of_rewards_1[i] + 1, numbers_of_rewards_0[i] + 1)\n",
    "        if random_beta > max_random:\n",
    "            max_random = random_beta\n",
    "            ad = i\n",
    "    ads_selected.append(ad)\n",
    "    reward = dataset.values[n, ad]\n",
    "    if reward == 1:\n",
    "        numbers_of_rewards_1[ad] += 1\n",
    "    else:\n",
    "        numbers_of_rewards_0[ad] += 1\n",
    "    total_reward = total_reward + reward"
   ]
  },
  {
   "cell_type": "markdown",
   "metadata": {},
   "source": [
    "### Visualizing the result"
   ]
  },
  {
   "cell_type": "code",
   "execution_count": 37,
   "metadata": {},
   "outputs": [
    {
     "data": {
      "image/png": "[encoded data removed]",
      "text/plain": [
       "<Figure size 432x288 with 1 Axes>"
      ]
     },
     "metadata": {},
     "output_type": "display_data"
    }
   ],
   "source": [
    "plot_ads_selected(ads_selected=ads_selected)"
   ]
  },
  {
   "cell_type": "code",
   "execution_count": null,
   "metadata": {},
   "outputs": [],
   "source": []
  }
 ],
 "metadata": {
  "kernelspec": {
   "display_name": "Python 3",
   "language": "python",
   "name": "python3"
  },
  "language_info": {
   "codemirror_mode": {
    "name": "ipython",
    "version": 3
   },
   "file_extension": ".py",
   "mimetype": "text/x-python",
   "name": "python",
   "nbconvert_exporter": "python",
   "pygments_lexer": "ipython3",
   "version": "3.6.5"
  }
 },
 "nbformat": 4,
 "nbformat_minor": 2
}
